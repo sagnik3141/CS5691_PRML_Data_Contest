{
 "cells": [
  {
   "cell_type": "code",
   "execution_count": null,
   "metadata": {},
   "outputs": [],
   "source": [
    "# Imports\n",
    "\n",
    "import numpy as np\n",
    "import matplotlib.pyplot as plt\n",
    "import seaborn as sns\n",
    "import pandas as pd\n",
    "import sklearn\n",
    "import catboost"
   ]
  },
  {
   "cell_type": "code",
   "execution_count": null,
   "metadata": {},
   "outputs": [],
   "source": [
    "# Loading Data\n",
    "\n",
    "train = pd.read_csv('data/train.csv')\n",
    "songs = pd.read_csv('data/songs.csv')\n",
    "song_labels = pd.read_csv('data/song_labels.csv')\n",
    "test = pd.read_csv('data/test.csv')\n",
    "save_for_later = pd.read_csv('data/save_for_later.csv')\n",
    "dummy_submission = pd.read_csv('data/dummy_submission.csv')"
   ]
  },
  {
   "cell_type": "code",
   "execution_count": null,
   "metadata": {},
   "outputs": [],
   "source": [
    "from sklearn.model_selection import train_test_split\n",
    "train, validation = train_test_split(train, train_size = 0.9, random_state=69)"
   ]
  },
  {
   "cell_type": "code",
   "execution_count": null,
   "metadata": {},
   "outputs": [],
   "source": [
    "customer_id_list = train['customer_id'].unique()"
   ]
  },
  {
   "cell_type": "code",
   "execution_count": null,
   "metadata": {},
   "outputs": [],
   "source": [
    "song_id_list = train['song_id'].unique()"
   ]
  },
  {
   "cell_type": "code",
   "execution_count": null,
   "metadata": {},
   "outputs": [],
   "source": [
    "learning_rate = 5e-4\n",
    "iters = 100\n",
    "dim = 10\n",
    "reg = 0.1\n",
    "# Initialization\n",
    "\n",
    "customer_weights = {}\n",
    "for customer in customer_id_list:\n",
    "    customer_weights[customer] = np.random.uniform(-10e-3, 10e-3, dim)\n",
    "    \n",
    "song_weights = {}\n",
    "for song in song_id_list:\n",
    "    song_weights[song] = np.random.uniform(0, 10e-3, dim)"
   ]
  },
  {
   "cell_type": "code",
   "execution_count": null,
   "metadata": {},
   "outputs": [],
   "source": [
    "customer_gradients = {}\n",
    "for customer1 in customer_id_list:\n",
    "    customer_gradients[customer1] = np.random.uniform(0, 10e-10, dim)\n",
    "    \n",
    "song_gradients = {}\n",
    "for song1 in song_id_list:\n",
    "    song_gradients[song1] = np.random.uniform(0, 10e-10, dim)"
   ]
  },
  {
   "cell_type": "code",
   "execution_count": null,
   "metadata": {},
   "outputs": [],
   "source": [
    "customer_groups = train.groupby('customer_id')\n",
    "song_groups = train.groupby('song_id')"
   ]
  },
  {
   "cell_type": "code",
   "execution_count": null,
   "metadata": {},
   "outputs": [],
   "source": [
    "for i in range(iters):\n",
    "    # Finding customer gradients\n",
    "    for customer in customer_id_list:\n",
    "        group = customer_groups.get_group(customer)\n",
    "        songlist = group['song_id'].to_numpy()\n",
    "        temp = np.zeros(((len(group.index.to_numpy())), dim))\n",
    "        customer_weight = customer_weights[customer]\n",
    "        y = group['score'].to_numpy()\n",
    "        for k in range(len(songlist)):\n",
    "            temp[k, :] = song_weights[songlist[k]]\n",
    "        gradient = np.matmul(temp, customer_weight)-y\n",
    "        gradient = np.squeeze(np.matmul(temp.T, gradient)) + reg*customer_weight\n",
    "        customer_gradients[customer] = gradient\n",
    "    # Finding song gradients    \n",
    "    for song in song_id_list:\n",
    "        group = song_groups.get_group(song)\n",
    "        customerlist = group['customer_id'].to_numpy()\n",
    "        temp = np.zeros(((len(group.index.to_numpy())), dim))\n",
    "        song_weight = song_weights[song]\n",
    "        y = group['score'].to_numpy()\n",
    "        for k in range(len(customerlist)):\n",
    "            temp[k, :] = customer_weights[customerlist[k]]\n",
    "        gradient = np.matmul(temp, song_weight)-y\n",
    "        gradient = np.squeeze(np.matmul(temp.T, gradient)) + reg*song_weight\n",
    "        song_gradients[song] = gradient\n",
    "    \n",
    "    for customer in customer_id_list:\n",
    "        customer_weights[customer] = customer_weights[customer] - learning_rate*customer_gradients[customer]\n",
    "        \n",
    "    for song in song_id_list:\n",
    "        song_weights[song] = song_weights[song] - learning_rate*song_gradients[song]\n",
    "    estimates_train = []\n",
    "    for k in range(len(train.index.to_numpy())):\n",
    "        customer_weight = customer_weights[train['customer_id'].iloc[k]]\n",
    "        song_weight = song_weights[train['song_id'].iloc[k]]\n",
    "        estimate = np.dot(customer_weight, song_weight)\n",
    "        estimates_train.append(estimate)\n",
    "\n",
    "    estimates_validation = []\n",
    "    for k in range(len(validation.index.to_numpy())):\n",
    "        customer_weight = customer_weights[validation['customer_id'].iloc[k]]\n",
    "        song_weight = song_weights[validation['song_id'].iloc[k]]\n",
    "        estimate = np.dot(customer_weight, song_weight)\n",
    "        estimates_validation.append(estimate)\n",
    "    y_train = train['score'].to_numpy()\n",
    "    y_val = validation['score'].to_numpy()\n",
    "    estimates_train = np.array(estimates_train)\n",
    "    estimates_validation = np.array(estimates_validation)\n",
    "    train_error = (1/len(y_train))*np.linalg.norm(y_train - estimates_train)**2\n",
    "    val_error = (1/len(y_val))*np.linalg.norm(y_val - estimates_validation)**2\n",
    "    print(f'iter {i} train {train_error} val {val_error}')\n",
    "    "
   ]
  },
  {
   "cell_type": "code",
   "execution_count": null,
   "metadata": {},
   "outputs": [],
   "source": [
    "train['customer_id'].value_counts()"
   ]
  },
  {
   "cell_type": "code",
   "execution_count": null,
   "metadata": {},
   "outputs": [],
   "source": [
    "customer_weights['F11620']"
   ]
  },
  {
   "cell_type": "code",
   "execution_count": null,
   "metadata": {},
   "outputs": [],
   "source": [
    "customer"
   ]
  },
  {
   "cell_type": "code",
   "execution_count": null,
   "metadata": {},
   "outputs": [],
   "source": [
    "group"
   ]
  },
  {
   "cell_type": "code",
   "execution_count": null,
   "metadata": {},
   "outputs": [],
   "source": [
    "customer_groups.get_group('K29715')"
   ]
  },
  {
   "cell_type": "code",
   "execution_count": null,
   "metadata": {},
   "outputs": [],
   "source": [
    "songlist"
   ]
  },
  {
   "cell_type": "code",
   "execution_count": null,
   "metadata": {},
   "outputs": [],
   "source": [
    "y"
   ]
  },
  {
   "cell_type": "code",
   "execution_count": null,
   "metadata": {},
   "outputs": [],
   "source": [
    "temp.shape"
   ]
  },
  {
   "cell_type": "code",
   "execution_count": null,
   "metadata": {},
   "outputs": [],
   "source": [
    "np.matmul(temp, customer_weight).shape"
   ]
  },
  {
   "cell_type": "code",
   "execution_count": null,
   "metadata": {},
   "outputs": [],
   "source": [
    "y.shape"
   ]
  },
  {
   "cell_type": "code",
   "execution_count": null,
   "metadata": {},
   "outputs": [],
   "source": [
    "np.squeeze(np.matmul(temp.T, np.matmul(temp, customer_weight)-y)).shape"
   ]
  },
  {
   "cell_type": "code",
   "execution_count": null,
   "metadata": {},
   "outputs": [],
   "source": []
  }
 ],
 "metadata": {
  "kernelspec": {
   "display_name": "Python 3",
   "language": "python",
   "name": "python3"
  },
  "language_info": {
   "codemirror_mode": {
    "name": "ipython",
    "version": 3
   },
   "file_extension": ".py",
   "mimetype": "text/x-python",
   "name": "python",
   "nbconvert_exporter": "python",
   "pygments_lexer": "ipython3",
   "version": "3.8.3"
  }
 },
 "nbformat": 4,
 "nbformat_minor": 4
}
