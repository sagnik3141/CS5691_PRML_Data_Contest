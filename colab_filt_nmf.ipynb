{
 "cells": [
  {
   "cell_type": "code",
   "execution_count": 1,
   "metadata": {},
   "outputs": [],
   "source": [
    "# Imports\n",
    "\n",
    "import numpy as np\n",
    "import matplotlib.pyplot as plt\n",
    "import seaborn as sns\n",
    "import pandas as pd\n",
    "import sklearn\n",
    "import catboost"
   ]
  },
  {
   "cell_type": "code",
   "execution_count": 2,
   "metadata": {},
   "outputs": [],
   "source": [
    "# Loading Data\n",
    "\n",
    "train = pd.read_csv('data/train.csv')\n",
    "songs = pd.read_csv('data/songs.csv')\n",
    "song_labels = pd.read_csv('data/song_labels.csv')\n",
    "test = pd.read_csv('data/test.csv')\n",
    "save_for_later = pd.read_csv('data/save_for_later.csv')\n",
    "dummy_submission = pd.read_csv('data/dummy_submission.csv')"
   ]
  },
  {
   "cell_type": "code",
   "execution_count": 3,
   "metadata": {},
   "outputs": [],
   "source": [
    "from sklearn.model_selection import train_test_split\n",
    "train_init, train_rem = train_test_split(train, train_size = 0.3, random_state = 1023)"
   ]
  },
  {
   "cell_type": "code",
   "execution_count": 4,
   "metadata": {},
   "outputs": [],
   "source": [
    "customer_id_list = train['customer_id'].unique()"
   ]
  },
  {
   "cell_type": "code",
   "execution_count": 5,
   "metadata": {},
   "outputs": [],
   "source": [
    "song_id_list = train['song_id'].unique()"
   ]
  },
  {
   "cell_type": "code",
   "execution_count": 6,
   "metadata": {},
   "outputs": [],
   "source": [
    "# Initializing Matrix Factorization\n",
    "learning_rate = 1e-2\n",
    "iters = 200\n",
    "dim = 100\n",
    "reg = 0.05\n",
    "# Initialization\n",
    "\n",
    "customer_weights = {}\n",
    "for customer in customer_id_list:\n",
    "    np.random.seed(0)\n",
    "    customer_weights[customer] = np.random.uniform(0, 10e-10, dim)\n",
    "    \n",
    "song_weights = {}\n",
    "for song in song_id_list:\n",
    "    np.random.seed(0)\n",
    "    song_weights[song] = np.random.uniform(0, 10e-10, dim)"
   ]
  },
  {
   "cell_type": "code",
   "execution_count": 7,
   "metadata": {},
   "outputs": [
    {
     "name": "stdout",
     "output_type": "stream",
     "text": [
      "iter 0 rem 16.468380150358996 init 16.471464380938077\n",
      "iter 1 rem 16.468380150358815 init 16.471464380937658\n",
      "iter 2 rem 16.46838015033611 init 16.471464380910817\n",
      "iter 3 rem 16.468380149296404 init 16.471464379674675\n",
      "iter 4 rem 16.468380101237393 init 16.471464322481573\n",
      "iter 5 rem 16.46837787859608 init 16.471461676762562\n",
      "iter 6 rem 16.46827507643663 init 16.47133929776594\n",
      "iter 7 rem 16.46352510100062 init 16.465685315418927\n",
      "iter 8 rem 16.254189181816624 init 16.217798411108355\n",
      "iter 9 rem 12.97644646798974 init 12.62725456277531\n",
      "iter 10 rem 8.265125241857886 init 7.86070600249367\n",
      "iter 11 rem 5.304282714451716 init 4.863500396344908\n",
      "iter 12 rem 3.5823195478599836 init 3.122908353683876\n",
      "iter 13 rem 2.5911292296646065 init 2.1429962728478285\n",
      "iter 14 rem 2.006440004754722 init 1.5868442950640496\n",
      "iter 15 rem 1.6457175913214688 init 1.2592702417636767\n",
      "iter 16 rem 1.413674303453657 init 1.0588741270074125\n",
      "iter 17 rem 1.2594117779500078 init 0.9325113419205444\n",
      "iter 18 rem 1.1540366232481511 init 0.8507434945260643\n",
      "iter 19 rem 1.0802767225555245 init 0.796514206494673\n",
      "iter 20 rem 1.0274471226805306 init 0.7596671005106918\n",
      "iter 21 rem 0.988774818789471 init 0.7340271429742127\n",
      "iter 22 rem 0.9598789731113483 init 0.7157673864765068\n",
      "iter 23 rem 0.9378728213506505 init 0.7024726605299746\n",
      "iter 24 rem 0.9208190006610862 init 0.6925909002332915\n",
      "iter 25 rem 0.9073930636503678 init 0.6851055821852836\n",
      "iter 26 rem 0.8966726088016629 init 0.6793375836429579\n",
      "iter 27 rem 0.8880033760834404 init 0.6748239770986607\n",
      "iter 28 rem 0.88091303493273 init 0.6712429236248302\n",
      "iter 29 rem 0.8750548511062733 init 0.6683664131705895\n",
      "iter 30 rem 0.8701702972158492 init 0.6660300204112068\n",
      "iter 31 rem 0.86606383134392 init 0.6641132062993014\n",
      "iter 32 rem 0.86258560194245 init 0.6625262582243772\n",
      "iter 33 rem 0.8596193934308709 init 0.661201477831691\n",
      "iter 34 rem 0.8570740910635762 init 0.6600871323189127\n",
      "iter 35 rem 0.8548775465918551 init 0.6591432339823787\n",
      "iter 36 rem 0.8529721073402322 init 0.6583385494245138\n",
      "iter 37 rem 0.8513113151555746 init 0.6576484491539202\n",
      "iter 38 rem 0.8498574398535893 init 0.6570533403992236\n",
      "iter 39 rem 0.8485796158831619 init 0.6565375105862148\n",
      "iter 40 rem 0.84745242045378 init 0.6560882639710501\n",
      "iter 41 rem 0.8464547784792587 init 0.6556952702531528\n",
      "iter 42 rem 0.8455691120534837 init 0.6553500683171694\n",
      "iter 43 rem 0.8447806746996916 init 0.6550456847694279\n",
      "iter 44 rem 0.8440770265098592 init 0.6547763383001767\n",
      "iter 45 rem 0.8434476176114901 init 0.6545372088260144\n",
      "iter 46 rem 0.8428834555633243 init 0.654324255958111\n",
      "iter 47 rem 0.8423768382328493 init 0.6541340753332503\n",
      "iter 48 rem 0.8419211380913804 init 0.6539637842254188\n",
      "iter 49 rem 0.8415106271216242 init 0.6538109299563439\n",
      "iter 50 rem 0.8411403339783966 init 0.6536734161703073\n",
      "iter 51 rem 0.8408059268940837 init 0.6535494431883282\n",
      "iter 52 rem 0.8405036172321694 init 0.6534374595187988\n",
      "iter 53 rem 0.8402300796765699 init 0.6533361222531441\n",
      "iter 54 rem 0.8399823858829093 init 0.653244264571168\n",
      "iter 55 rem 0.8397579490697945 init 0.6531608689610947\n",
      "iter 56 rem 0.8395544775378283 init 0.6530850450527835\n",
      "iter 57 rem 0.8393699355043764 init 0.6530160111903472\n",
      "iter 58 rem 0.8392025099579421 init 0.6529530790480852\n",
      "iter 59 rem 0.8390505824861058 init 0.6528956407329954\n",
      "iter 60 rem 0.8389127052298571 init 0.6528431579268564\n",
      "iter 61 rem 0.8387875802757541 init 0.6527951527077092\n",
      "iter 62 rem 0.8386740419242926 init 0.6527511997595068\n",
      "iter 63 rem 0.8385710413747576 init 0.6527109197336579\n",
      "iter 64 rem 0.8384776334488753 init 0.6526739735701437\n",
      "iter 65 rem 0.8383929650418114 init 0.6526400576211511\n",
      "iter 66 rem 0.8383162650427001 init 0.652608899448521\n",
      "iter 67 rem 0.8382468355104346 init 0.6525802541892195\n",
      "iter 68 rem 0.8381840439259235 init 0.6525539014015292\n",
      "iter 69 rem 0.8381273163710082 init 0.6525296423197021\n",
      "iter 70 rem 0.8380761315079843 init 0.652507297457\n",
      "iter 71 rem 0.8380300152532162 init 0.6524867045070236\n",
      "iter 72 rem 0.8379885360544779 init 0.6524677165013677\n",
      "iter 73 rem 0.8379513006950202 init 0.6524502001883096\n",
      "iter 74 rem 0.837917950558497 init 0.6524340346027505\n",
      "iter 75 rem 0.8378881582982034 init 0.6524191098021508\n",
      "iter 76 rem 0.837861624861866 init 0.6524053257469695\n",
      "iter 77 rem 0.8378380768298432 init 0.6523925913072502\n",
      "iter 78 rem 0.8378172640301398 init 0.6523808233796062\n",
      "iter 79 rem 0.8377989573984157 init 0.6523699461010555\n",
      "iter 80 rem 0.8377829470552043 init 0.6523598901480028\n",
      "iter 81 rem 0.8377690405760246 init 0.6523505921102373\n",
      "iter 82 rem 0.8377570614330931 init 0.6523419939311331\n",
      "iter 83 rem 0.8377468475898807 init 0.6523340424063909\n",
      "iter 84 rem 0.8377382502320381 init 0.6523266887346137\n",
      "iter 85 rem 0.8377311326201337 init 0.6523198881138607\n",
      "iter 86 rem 0.8377253690513468 init 0.6523135993790331\n",
      "iter 87 rem 0.8377208439187516 init 0.6523077846755765\n",
      "iter 88 rem 0.8377174508580958 init 0.6523024091655244\n",
      "iter 89 rem 0.8377150919731441 init 0.652297440762373\n",
      "iter 90 rem 0.8377136771316301 init 0.652292849891698\n",
      "iter 91 rem 0.8377131233247513 init 0.6522886092747754\n",
      "iter 92 rem 0.8377133540839025 init 0.6522846937327834\n"
     ]
    },
    {
     "ename": "KeyboardInterrupt",
     "evalue": "",
     "output_type": "error",
     "traceback": [
      "\u001b[1;31m---------------------------------------------------------------------------\u001b[0m",
      "\u001b[1;31mKeyboardInterrupt\u001b[0m                         Traceback (most recent call last)",
      "\u001b[1;32m<ipython-input-7-67d19e8db5c6>\u001b[0m in \u001b[0;36m<module>\u001b[1;34m\u001b[0m\n\u001b[0;32m      8\u001b[0m         \u001b[0my\u001b[0m \u001b[1;33m=\u001b[0m \u001b[0mtrain_init\u001b[0m\u001b[1;33m[\u001b[0m\u001b[1;34m'score'\u001b[0m\u001b[1;33m]\u001b[0m\u001b[1;33m.\u001b[0m\u001b[0miloc\u001b[0m\u001b[1;33m[\u001b[0m\u001b[0mk\u001b[0m\u001b[1;33m]\u001b[0m\u001b[1;33m\u001b[0m\u001b[1;33m\u001b[0m\u001b[0m\n\u001b[0;32m      9\u001b[0m \u001b[1;33m\u001b[0m\u001b[0m\n\u001b[1;32m---> 10\u001b[1;33m         \u001b[0mtemp\u001b[0m \u001b[1;33m=\u001b[0m \u001b[0my\u001b[0m \u001b[1;33m-\u001b[0m \u001b[0mnp\u001b[0m\u001b[1;33m.\u001b[0m\u001b[0mdot\u001b[0m\u001b[1;33m(\u001b[0m\u001b[0mcustomer_weight\u001b[0m\u001b[1;33m,\u001b[0m \u001b[0msong_weight\u001b[0m\u001b[1;33m)\u001b[0m\u001b[1;33m\u001b[0m\u001b[1;33m\u001b[0m\u001b[0m\n\u001b[0m\u001b[0;32m     11\u001b[0m         \u001b[0mcustomer_weight_new\u001b[0m \u001b[1;33m=\u001b[0m \u001b[0mcustomer_weight\u001b[0m \u001b[1;33m+\u001b[0m \u001b[0mlearning_rate\u001b[0m\u001b[1;33m*\u001b[0m\u001b[1;33m(\u001b[0m\u001b[0mtemp\u001b[0m\u001b[1;33m*\u001b[0m\u001b[0msong_weight\u001b[0m\u001b[1;33m-\u001b[0m\u001b[0mreg\u001b[0m\u001b[1;33m*\u001b[0m\u001b[0mcustomer_weight\u001b[0m\u001b[1;33m)\u001b[0m\u001b[1;33m\u001b[0m\u001b[1;33m\u001b[0m\u001b[0m\n\u001b[0;32m     12\u001b[0m         \u001b[0msong_weight_new\u001b[0m \u001b[1;33m=\u001b[0m \u001b[0msong_weight\u001b[0m \u001b[1;33m+\u001b[0m \u001b[0mlearning_rate\u001b[0m\u001b[1;33m*\u001b[0m\u001b[1;33m(\u001b[0m\u001b[0mtemp\u001b[0m\u001b[1;33m*\u001b[0m\u001b[0mcustomer_weight\u001b[0m\u001b[1;33m-\u001b[0m\u001b[0mreg\u001b[0m\u001b[1;33m*\u001b[0m\u001b[0msong_weight\u001b[0m\u001b[1;33m)\u001b[0m\u001b[1;33m\u001b[0m\u001b[1;33m\u001b[0m\u001b[0m\n",
      "\u001b[1;32m<__array_function__ internals>\u001b[0m in \u001b[0;36mdot\u001b[1;34m(*args, **kwargs)\u001b[0m\n",
      "\u001b[1;31mKeyboardInterrupt\u001b[0m: "
     ]
    }
   ],
   "source": [
    "# Training Matrix Factorization\n",
    "import time\n",
    "start = time.time()\n",
    "for i in range(iters):\n",
    "    for k in range(len(train_init.index.to_numpy())):\n",
    "        customer_weight = customer_weights[train_init['customer_id'].iloc[k]]\n",
    "        song_weight = song_weights[train_init['song_id'].iloc[k]]\n",
    "        y = train_init['score'].iloc[k]\n",
    "        \n",
    "        temp = y - np.dot(customer_weight, song_weight)\n",
    "        customer_weight_new = customer_weight + learning_rate*(temp*song_weight-reg*customer_weight)\n",
    "        song_weight_new = song_weight + learning_rate*(temp*customer_weight-reg*song_weight)\n",
    "        customer_weights[train_init['customer_id'].iloc[k]] = customer_weight_new\n",
    "        song_weights[train_init['song_id'].iloc[k]] = song_weight_new\n",
    "    estimates_train_rem = []\n",
    "    for k in range(len(train_rem.index.to_numpy())):\n",
    "        customer_weight = customer_weights[train_rem['customer_id'].iloc[k]]\n",
    "        song_weight = song_weights[train_rem['song_id'].iloc[k]]\n",
    "        estimate = np.dot(customer_weight, song_weight)\n",
    "        estimates_train_rem.append(estimate)\n",
    "    estimates_train_init = []\n",
    "    for k in range(len(train_init.index.to_numpy())):\n",
    "        customer_weight = customer_weights[train_init['customer_id'].iloc[k]]\n",
    "        song_weight = song_weights[train_init['song_id'].iloc[k]]\n",
    "        estimate = np.dot(customer_weight, song_weight)\n",
    "        estimates_train_init.append(estimate)\n",
    "    y_train_rem = train_rem['score'].to_numpy()\n",
    "    y_train_init = train_init['score'].to_numpy()\n",
    "    estimates_train_rem = np.array(estimates_train_rem)\n",
    "    estimates_train_init = np.array(estimates_train_init)\n",
    "    train_error_rem = (1/len(y_train_rem))*np.linalg.norm(y_train_rem - estimates_train_rem)**2\n",
    "    train_error_init = (1/len(y_train_init))*np.linalg.norm(y_train_init - estimates_train_init)**2\n",
    "    print(f'iter {i} rem {train_error_rem} init {train_error_init}')\n",
    "print(time.time()-start)"
   ]
  },
  {
   "cell_type": "code",
   "execution_count": null,
   "metadata": {},
   "outputs": [],
   "source": [
    "customer_weights_df = pd.DataFrame(customer_weights)"
   ]
  },
  {
   "cell_type": "code",
   "execution_count": null,
   "metadata": {},
   "outputs": [],
   "source": [
    "customer_weights_df = customer_weights_df.transpose()"
   ]
  },
  {
   "cell_type": "code",
   "execution_count": null,
   "metadata": {},
   "outputs": [],
   "source": [
    "customer_weights_df['customer_id'] = customer_weights_df.index"
   ]
  },
  {
   "cell_type": "code",
   "execution_count": null,
   "metadata": {},
   "outputs": [],
   "source": [
    "train_rem = train_rem.merge(customer_weights_df, on = 'customer_id', how = 'left')"
   ]
  },
  {
   "cell_type": "code",
   "execution_count": null,
   "metadata": {},
   "outputs": [],
   "source": [
    "song_weights_df = pd.DataFrame(song_weights)"
   ]
  },
  {
   "cell_type": "code",
   "execution_count": null,
   "metadata": {},
   "outputs": [],
   "source": [
    "song_weights_df = song_weights_df.transpose()"
   ]
  },
  {
   "cell_type": "code",
   "execution_count": null,
   "metadata": {},
   "outputs": [],
   "source": [
    "song_weights_df['song_id'] = song_weights_df.index"
   ]
  },
  {
   "cell_type": "code",
   "execution_count": null,
   "metadata": {},
   "outputs": [],
   "source": [
    "songs = songs.merge(song_weights_df, on = 'song_id', how = 'left')"
   ]
  },
  {
   "cell_type": "code",
   "execution_count": null,
   "metadata": {},
   "outputs": [],
   "source": [
    "estimates_train = []\n",
    "for k in range(len(train_rem.index.to_numpy())):\n",
    "    customer_weight = customer_weights[train_rem['customer_id'].iloc[k]]\n",
    "    song_weight = song_weights[train_rem['song_id'].iloc[k]]\n",
    "    estimate = np.dot(customer_weight, song_weight)\n",
    "    estimates_train.append(estimate)"
   ]
  },
  {
   "cell_type": "code",
   "execution_count": null,
   "metadata": {},
   "outputs": [],
   "source": [
    "train_rem['estimates'] = estimates_train"
   ]
  },
  {
   "cell_type": "code",
   "execution_count": null,
   "metadata": {},
   "outputs": [],
   "source": [
    "song_labels_pivot = song_labels.pivot_table(index = 'platform_id', columns = 'label_id', values = 'count')"
   ]
  },
  {
   "cell_type": "code",
   "execution_count": null,
   "metadata": {},
   "outputs": [],
   "source": [
    "song_labels_pivot = song_labels_pivot.fillna(0)"
   ]
  },
  {
   "cell_type": "code",
   "execution_count": null,
   "metadata": {},
   "outputs": [],
   "source": [
    "song_labels_pivot = song_labels_pivot.applymap(lambda x: np.log(1+np.abs(x)))"
   ]
  },
  {
   "cell_type": "code",
   "execution_count": null,
   "metadata": {},
   "outputs": [],
   "source": [
    "song_labels_pivot"
   ]
  },
  {
   "cell_type": "code",
   "execution_count": null,
   "metadata": {},
   "outputs": [],
   "source": [
    "from sklearn.decomposition import NMF\n",
    "nmf = NMF(n_components=100, max_iter = 1000, verbose = 1, random_state = 1)"
   ]
  },
  {
   "cell_type": "code",
   "execution_count": null,
   "metadata": {},
   "outputs": [],
   "source": [
    "song_labels_transformed = nmf.fit_transform(song_labels_pivot)"
   ]
  },
  {
   "cell_type": "code",
   "execution_count": null,
   "metadata": {},
   "outputs": [],
   "source": [
    "song_labels_transformed.shape"
   ]
  },
  {
   "cell_type": "code",
   "execution_count": null,
   "metadata": {},
   "outputs": [],
   "source": [
    "song_labels_transformed_df = pd.DataFrame(song_labels_transformed, index = song_labels_pivot.index)"
   ]
  },
  {
   "cell_type": "code",
   "execution_count": null,
   "metadata": {},
   "outputs": [],
   "source": [
    "song_labels_transformed_df"
   ]
  },
  {
   "cell_type": "code",
   "execution_count": null,
   "metadata": {},
   "outputs": [],
   "source": [
    "songs = pd.merge(songs, song_labels_transformed_df, on = 'platform_id', how = 'left')"
   ]
  },
  {
   "cell_type": "code",
   "execution_count": null,
   "metadata": {},
   "outputs": [],
   "source": [
    "songs"
   ]
  },
  {
   "cell_type": "code",
   "execution_count": null,
   "metadata": {},
   "outputs": [],
   "source": [
    "songs = songs.drop(['platform_id'], axis = 1)"
   ]
  },
  {
   "cell_type": "code",
   "execution_count": null,
   "metadata": {},
   "outputs": [],
   "source": [
    "train_song_mean = train.groupby('song_id').mean()\n",
    "song_scores = train.merge(train_song_mean, on = 'song_id', how = 'left')\n",
    "song_scores = song_scores[['song_id', 'score_y']]\n",
    "song_scores.drop_duplicates('song_id', keep = 'first', inplace = True)"
   ]
  },
  {
   "cell_type": "code",
   "execution_count": null,
   "metadata": {},
   "outputs": [],
   "source": [
    "songs = songs.merge(song_scores, on = 'song_id', how = 'left')"
   ]
  },
  {
   "cell_type": "code",
   "execution_count": null,
   "metadata": {},
   "outputs": [],
   "source": [
    "song_num_ratings = train['song_id'].value_counts().to_frame()"
   ]
  },
  {
   "cell_type": "code",
   "execution_count": null,
   "metadata": {},
   "outputs": [],
   "source": [
    "song_num_ratings['num_ratings'] = song_num_ratings['song_id']"
   ]
  },
  {
   "cell_type": "code",
   "execution_count": null,
   "metadata": {},
   "outputs": [],
   "source": [
    "song_num_ratings['song_id'] = song_num_ratings.index"
   ]
  },
  {
   "cell_type": "code",
   "execution_count": null,
   "metadata": {},
   "outputs": [],
   "source": [
    "songs = songs.merge(song_num_ratings, on = 'song_id', how = 'left')"
   ]
  },
  {
   "cell_type": "code",
   "execution_count": null,
   "metadata": {},
   "outputs": [],
   "source": [
    "songs.drop_duplicates('song_id', keep = 'first', inplace = True)"
   ]
  },
  {
   "cell_type": "code",
   "execution_count": null,
   "metadata": {},
   "outputs": [],
   "source": [
    "f = pd.merge(train_rem, save_for_later, on=['customer_id','song_id'], how='left', indicator='Exist')"
   ]
  },
  {
   "cell_type": "code",
   "execution_count": null,
   "metadata": {},
   "outputs": [],
   "source": [
    "train_rem = f"
   ]
  },
  {
   "cell_type": "code",
   "execution_count": null,
   "metadata": {},
   "outputs": [],
   "source": [
    "X_train = pd.merge(train_rem, songs, on = ['song_id'], how = 'left')"
   ]
  },
  {
   "cell_type": "code",
   "execution_count": null,
   "metadata": {},
   "outputs": [],
   "source": [
    "Y_train = X_train['score']"
   ]
  },
  {
   "cell_type": "code",
   "execution_count": null,
   "metadata": {},
   "outputs": [],
   "source": [
    "X_train.drop(['score'], axis = 1, inplace = True)"
   ]
  },
  {
   "cell_type": "code",
   "execution_count": null,
   "metadata": {},
   "outputs": [],
   "source": [
    "X_train['released_year'] = X_train['released_year'].fillna(-999)\n",
    "X_train['language'] = X_train['language'].fillna('none')\n",
    "X_train['number_of_comments'] = X_train['number_of_comments'].fillna(-999)"
   ]
  },
  {
   "cell_type": "code",
   "execution_count": null,
   "metadata": {},
   "outputs": [],
   "source": [
    "X_train.columns.to_numpy().tolist().index('Exist')"
   ]
  },
  {
   "cell_type": "code",
   "execution_count": null,
   "metadata": {},
   "outputs": [],
   "source": [
    "from catboost import CatBoostRegressor"
   ]
  },
  {
   "cell_type": "code",
   "execution_count": null,
   "metadata": {},
   "outputs": [],
   "source": [
    "model = CatBoostRegressor(cat_features = [0,1, 103, 105])"
   ]
  },
  {
   "cell_type": "code",
   "execution_count": null,
   "metadata": {},
   "outputs": [],
   "source": [
    "model.fit(X_train, Y_train, cat_features = [0,1, 103, 105], plot = True)"
   ]
  },
  {
   "cell_type": "code",
   "execution_count": null,
   "metadata": {},
   "outputs": [],
   "source": [
    "test = test.merge(customer_weights_df, on = 'customer_id', how = 'left')"
   ]
  },
  {
   "cell_type": "code",
   "execution_count": null,
   "metadata": {},
   "outputs": [],
   "source": [
    "estimates_test = []\n",
    "for k in range(len(test.index.to_numpy())):\n",
    "    customer_weight = customer_weights[test['customer_id'].iloc[k]]\n",
    "    song_weight = song_weights[test['song_id'].iloc[k]]\n",
    "    estimate = np.dot(customer_weight, song_weight)\n",
    "    estimates_test.append(estimate)"
   ]
  },
  {
   "cell_type": "code",
   "execution_count": null,
   "metadata": {},
   "outputs": [],
   "source": [
    "test['estimates'] = estimates_test"
   ]
  },
  {
   "cell_type": "code",
   "execution_count": null,
   "metadata": {},
   "outputs": [],
   "source": [
    "test = pd.merge(test, save_for_later, on=['customer_id','song_id'], how='left', indicator='Exist')"
   ]
  },
  {
   "cell_type": "code",
   "execution_count": null,
   "metadata": {},
   "outputs": [],
   "source": [
    "X_test = pd.merge(test, songs, on = ['song_id'], how = 'left')"
   ]
  },
  {
   "cell_type": "code",
   "execution_count": null,
   "metadata": {},
   "outputs": [],
   "source": [
    "X_test['released_year'] = X_test['released_year'].fillna(-999)\n",
    "X_test['language'] = X_test['language'].fillna('none')\n",
    "X_test['number_of_comments'] = X_test['number_of_comments'].fillna(-999)"
   ]
  },
  {
   "cell_type": "code",
   "execution_count": null,
   "metadata": {},
   "outputs": [],
   "source": [
    "y_test_pred = model.predict(X_test)"
   ]
  },
  {
   "cell_type": "code",
   "execution_count": null,
   "metadata": {},
   "outputs": [],
   "source": [
    "y_final = pd.DataFrame(y_test_pred)"
   ]
  },
  {
   "cell_type": "code",
   "execution_count": null,
   "metadata": {},
   "outputs": [],
   "source": [
    "y_final['score'] = y_final[0]"
   ]
  },
  {
   "cell_type": "code",
   "execution_count": null,
   "metadata": {},
   "outputs": [],
   "source": [
    "y_final.drop(0, axis = 1, inplace = True)"
   ]
  },
  {
   "cell_type": "code",
   "execution_count": null,
   "metadata": {},
   "outputs": [],
   "source": [
    "y_final['test_row_id'] = y_final.index"
   ]
  },
  {
   "cell_type": "code",
   "execution_count": null,
   "metadata": {},
   "outputs": [],
   "source": [
    "y_final = y_final[['test_row_id', 'score']]"
   ]
  },
  {
   "cell_type": "code",
   "execution_count": null,
   "metadata": {},
   "outputs": [],
   "source": [
    "y_final.to_csv('colab_nmfv2.csv', index = False)"
   ]
  },
  {
   "cell_type": "code",
   "execution_count": null,
   "metadata": {},
   "outputs": [],
   "source": []
  }
 ],
 "metadata": {
  "kernelspec": {
   "display_name": "Python 3",
   "language": "python",
   "name": "python3"
  },
  "language_info": {
   "codemirror_mode": {
    "name": "ipython",
    "version": 3
   },
   "file_extension": ".py",
   "mimetype": "text/x-python",
   "name": "python",
   "nbconvert_exporter": "python",
   "pygments_lexer": "ipython3",
   "version": "3.8.3"
  }
 },
 "nbformat": 4,
 "nbformat_minor": 4
}
