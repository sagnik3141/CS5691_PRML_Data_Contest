{
 "cells": [
  {
   "cell_type": "code",
   "execution_count": 1,
   "metadata": {},
   "outputs": [],
   "source": [
    "# Imports\n",
    "\n",
    "import numpy as np\n",
    "import matplotlib.pyplot as plt\n",
    "import seaborn as sns\n",
    "import pandas as pd\n",
    "import sklearn\n",
    "import catboost"
   ]
  },
  {
   "cell_type": "code",
   "execution_count": 2,
   "metadata": {},
   "outputs": [],
   "source": [
    "# Loading Data\n",
    "\n",
    "train = pd.read_csv('data/train.csv')\n",
    "songs = pd.read_csv('data/songs.csv')\n",
    "song_labels = pd.read_csv('data/song_labels.csv')\n",
    "test = pd.read_csv('data/test.csv')\n",
    "save_for_later = pd.read_csv('data/save_for_later.csv')\n",
    "dummy_submission = pd.read_csv('data/dummy_submission.csv')"
   ]
  },
  {
   "cell_type": "code",
   "execution_count": null,
   "metadata": {},
   "outputs": [],
   "source": [
    "from sklearn.model_selection import train_test_split\n",
    "train_init, train_rem = train_test_split(train, train_size = 0.3, random_state = 1023)"
   ]
  },
  {
   "cell_type": "code",
   "execution_count": null,
   "metadata": {},
   "outputs": [],
   "source": [
    "customer_id_list = train['customer_id'].unique()"
   ]
  },
  {
   "cell_type": "code",
   "execution_count": null,
   "metadata": {},
   "outputs": [],
   "source": [
    "song_id_list = train['song_id'].unique()"
   ]
  },
  {
   "cell_type": "code",
   "execution_count": null,
   "metadata": {},
   "outputs": [],
   "source": [
    "train_init['customer_id'].nunique()"
   ]
  },
  {
   "cell_type": "code",
   "execution_count": null,
   "metadata": {},
   "outputs": [],
   "source": [
    "# Initializing Matrix Factorization\n",
    "learning_rate = 1e-2\n",
    "iters = 200\n",
    "dim = 100\n",
    "reg = 0.05\n",
    "# Initialization\n",
    "\n",
    "customer_weights = {}\n",
    "for customer in customer_id_list:\n",
    "    customer_weights[customer] = np.random.uniform(0, 10e-10, dim)\n",
    "    \n",
    "song_weights = {}\n",
    "for song in song_id_list:\n",
    "    song_weights[song] = np.random.uniform(0, 10e-10, dim)"
   ]
  },
  {
   "cell_type": "code",
   "execution_count": null,
   "metadata": {},
   "outputs": [],
   "source": [
    "# Training Matrix Factorization\n",
    "import time\n",
    "start = time.time()\n",
    "for i in range(iters):\n",
    "    for k in range(len(train_init.index.to_numpy())):\n",
    "        customer_weight = customer_weights[train_init['customer_id'].iloc[k]]\n",
    "        song_weight = song_weights[train_init['song_id'].iloc[k]]\n",
    "        y = train_init['score'].iloc[k]\n",
    "        \n",
    "        temp = y - np.dot(customer_weight, song_weight)\n",
    "        customer_weight_new = customer_weight + learning_rate*(temp*song_weight-reg*customer_weight)\n",
    "        song_weight_new = song_weight + learning_rate*(temp*customer_weight-reg*song_weight)\n",
    "        customer_weights[train_init['customer_id'].iloc[k]] = customer_weight_new\n",
    "        song_weights[train_init['song_id'].iloc[k]] = song_weight_new\n",
    "    estimates_train_rem = []\n",
    "    for k in range(len(train_rem.index.to_numpy())):\n",
    "        customer_weight = customer_weights[train_rem['customer_id'].iloc[k]]\n",
    "        song_weight = song_weights[train_rem['song_id'].iloc[k]]\n",
    "        estimate = np.dot(customer_weight, song_weight)\n",
    "        estimates_train_rem.append(estimate)\n",
    "    estimates_train_init = []\n",
    "    for k in range(len(train_init.index.to_numpy())):\n",
    "        customer_weight = customer_weights[train_init['customer_id'].iloc[k]]\n",
    "        song_weight = song_weights[train_init['song_id'].iloc[k]]\n",
    "        estimate = np.dot(customer_weight, song_weight)\n",
    "        estimates_train_init.append(estimate)\n",
    "    y_train_rem = train_rem['score'].to_numpy()\n",
    "    y_train_init = train_init['score'].to_numpy()\n",
    "    estimates_train_rem = np.array(estimates_train_rem)\n",
    "    estimates_train_init = np.array(estimates_train_init)\n",
    "    train_error_rem = (1/len(y_train_rem))*np.linalg.norm(y_train_rem - estimates_train_rem)**2\n",
    "    train_error_init = (1/len(y_train_init))*np.linalg.norm(y_train_init - estimates_train_init)**2\n",
    "    print(f'iter {i} rem {train_error_rem} init {train_error_init}')\n",
    "print(time.time()-start)"
   ]
  },
  {
   "cell_type": "code",
   "execution_count": null,
   "metadata": {},
   "outputs": [],
   "source": [
    "customer_weights_df = pd.DataFrame(customer_weights)"
   ]
  },
  {
   "cell_type": "code",
   "execution_count": null,
   "metadata": {},
   "outputs": [],
   "source": [
    "customer_weights_df = customer_weights_df.transpose()"
   ]
  },
  {
   "cell_type": "code",
   "execution_count": null,
   "metadata": {},
   "outputs": [],
   "source": [
    "customer_weights_df['customer_id'] = customer_weights_df.index"
   ]
  },
  {
   "cell_type": "code",
   "execution_count": null,
   "metadata": {},
   "outputs": [],
   "source": [
    "# Appending generated customer features\n",
    "train_rem = train_rem.merge(customer_weights_df, on = 'customer_id', how = 'left')"
   ]
  },
  {
   "cell_type": "code",
   "execution_count": null,
   "metadata": {},
   "outputs": [],
   "source": [
    "song_weights_df = pd.DataFrame(song_weights)"
   ]
  },
  {
   "cell_type": "code",
   "execution_count": null,
   "metadata": {},
   "outputs": [],
   "source": [
    "song_weights_df = song_weights_df.transpose()"
   ]
  },
  {
   "cell_type": "code",
   "execution_count": null,
   "metadata": {},
   "outputs": [],
   "source": [
    "song_weights_df['song_id'] = song_weights_df.index"
   ]
  },
  {
   "cell_type": "code",
   "execution_count": null,
   "metadata": {},
   "outputs": [],
   "source": [
    "# Appending generated song features\n",
    "songs = songs.merge(song_weights_df, on = 'song_id', how = 'left')"
   ]
  },
  {
   "cell_type": "code",
   "execution_count": null,
   "metadata": {},
   "outputs": [],
   "source": [
    "# Estimated scores from Matrix Factorization\n",
    "estimates_train = []\n",
    "for k in range(len(train_rem.index.to_numpy())):\n",
    "    customer_weight = customer_weights[train_rem['customer_id'].iloc[k]]\n",
    "    song_weight = song_weights[train_rem['song_id'].iloc[k]]\n",
    "    estimate = np.dot(customer_weight, song_weight)\n",
    "    estimates_train.append(estimate)"
   ]
  },
  {
   "cell_type": "code",
   "execution_count": null,
   "metadata": {},
   "outputs": [],
   "source": [
    "train_rem['estimates'] = estimates_train"
   ]
  },
  {
   "cell_type": "code",
   "execution_count": null,
   "metadata": {},
   "outputs": [],
   "source": [
    "song_labels_new = song_labels.groupby('label_id').sum().sort_values('count', ascending = False)"
   ]
  },
  {
   "cell_type": "code",
   "execution_count": null,
   "metadata": {},
   "outputs": [],
   "source": [
    "song_labels_new.reset_index(inplace = True)"
   ]
  },
  {
   "cell_type": "code",
   "execution_count": null,
   "metadata": {},
   "outputs": [],
   "source": [
    "principal_song_labels = song_labels_new['label_id'].to_numpy()[:100]"
   ]
  },
  {
   "cell_type": "code",
   "execution_count": null,
   "metadata": {},
   "outputs": [],
   "source": [
    "for i in principal_song_labels:\n",
    "    label = song_labels[song_labels['label_id'] == i]\n",
    "    label = label.reset_index().drop(['index', 'label_id'], axis = 1)\n",
    "    label[f'count{i}'] = label['count']\n",
    "    label.drop(['count'], axis = 1, inplace = True)\n",
    "    songs = pd.merge(songs, label, on = 'platform_id', how = 'left')"
   ]
  },
  {
   "cell_type": "code",
   "execution_count": null,
   "metadata": {},
   "outputs": [],
   "source": [
    "for i in principal_song_labels:\n",
    "    songs[f'count{i}'] = songs[f'count{i}'].fillna(0)"
   ]
  },
  {
   "cell_type": "code",
   "execution_count": null,
   "metadata": {},
   "outputs": [],
   "source": [
    "songs = songs.drop(['platform_id'], axis = 1)"
   ]
  },
  {
   "cell_type": "code",
   "execution_count": 3,
   "metadata": {},
   "outputs": [],
   "source": [
    "song_scores = train.merge(train.groupby('song_id').mean(), on = 'song_id', how = 'left')[['song_id', 'score_y']].drop_duplicates('song_id', keep = 'first')"
   ]
  },
  {
   "cell_type": "code",
   "execution_count": null,
   "metadata": {},
   "outputs": [],
   "source": [
    "train_song_mean = train.groupby('song_id').mean()\n",
    "song_scores = train.merge(train_song_mean, on = 'song_id', how = 'left')\n",
    "song_scores = song_scores[['song_id', 'score_y']]\n",
    "song_scores.drop_duplicates('song_id', keep = 'first', inplace = True)"
   ]
  },
  {
   "cell_type": "code",
   "execution_count": 4,
   "metadata": {},
   "outputs": [],
   "source": [
    "songs = songs.merge(song_scores, on = 'song_id', how = 'left')"
   ]
  },
  {
   "cell_type": "code",
   "execution_count": 5,
   "metadata": {},
   "outputs": [
    {
     "data": {
      "text/html": [
       "<div>\n",
       "<style scoped>\n",
       "    .dataframe tbody tr th:only-of-type {\n",
       "        vertical-align: middle;\n",
       "    }\n",
       "\n",
       "    .dataframe tbody tr th {\n",
       "        vertical-align: top;\n",
       "    }\n",
       "\n",
       "    .dataframe thead th {\n",
       "        text-align: right;\n",
       "    }\n",
       "</style>\n",
       "<table border=\"1\" class=\"dataframe\">\n",
       "  <thead>\n",
       "    <tr style=\"text-align: right;\">\n",
       "      <th></th>\n",
       "      <th>song_id</th>\n",
       "      <th>platform_id</th>\n",
       "      <th>released_year</th>\n",
       "      <th>language</th>\n",
       "      <th>number_of_comments</th>\n",
       "      <th>score_y</th>\n",
       "    </tr>\n",
       "  </thead>\n",
       "  <tbody>\n",
       "    <tr>\n",
       "      <th>0</th>\n",
       "      <td>8328</td>\n",
       "      <td>T17332564</td>\n",
       "      <td>2013.0</td>\n",
       "      <td>eng</td>\n",
       "      <td>1936</td>\n",
       "      <td>3.562500</td>\n",
       "    </tr>\n",
       "    <tr>\n",
       "      <th>1</th>\n",
       "      <td>8591</td>\n",
       "      <td>T773514</td>\n",
       "      <td>1925.0</td>\n",
       "      <td>eng</td>\n",
       "      <td>420</td>\n",
       "      <td>4.105263</td>\n",
       "    </tr>\n",
       "    <tr>\n",
       "      <th>2</th>\n",
       "      <td>718</td>\n",
       "      <td>U10975</td>\n",
       "      <td>1929.0</td>\n",
       "      <td>eng</td>\n",
       "      <td>5485</td>\n",
       "      <td>3.706667</td>\n",
       "    </tr>\n",
       "    <tr>\n",
       "      <th>3</th>\n",
       "      <td>6593</td>\n",
       "      <td>Y12839</td>\n",
       "      <td>1968.0</td>\n",
       "      <td>NaN</td>\n",
       "      <td>200</td>\n",
       "      <td>4.266667</td>\n",
       "    </tr>\n",
       "    <tr>\n",
       "      <th>4</th>\n",
       "      <td>743</td>\n",
       "      <td>Q28881</td>\n",
       "      <td>2002.0</td>\n",
       "      <td>en-US</td>\n",
       "      <td>10411</td>\n",
       "      <td>4.132184</td>\n",
       "    </tr>\n",
       "    <tr>\n",
       "      <th>...</th>\n",
       "      <td>...</td>\n",
       "      <td>...</td>\n",
       "      <td>...</td>\n",
       "      <td>...</td>\n",
       "      <td>...</td>\n",
       "      <td>...</td>\n",
       "    </tr>\n",
       "    <tr>\n",
       "      <th>9976</th>\n",
       "      <td>2048</td>\n",
       "      <td>X15811568</td>\n",
       "      <td>2013.0</td>\n",
       "      <td>eng</td>\n",
       "      <td>4793</td>\n",
       "      <td>3.657895</td>\n",
       "    </tr>\n",
       "    <tr>\n",
       "      <th>9977</th>\n",
       "      <td>2552</td>\n",
       "      <td>W9597</td>\n",
       "      <td>1952.0</td>\n",
       "      <td>eng</td>\n",
       "      <td>1365</td>\n",
       "      <td>3.796875</td>\n",
       "    </tr>\n",
       "    <tr>\n",
       "      <th>9978</th>\n",
       "      <td>6741</td>\n",
       "      <td>T105574</td>\n",
       "      <td>2006.0</td>\n",
       "      <td>en-US</td>\n",
       "      <td>1296</td>\n",
       "      <td>3.687500</td>\n",
       "    </tr>\n",
       "    <tr>\n",
       "      <th>9979</th>\n",
       "      <td>4564</td>\n",
       "      <td>W13624367</td>\n",
       "      <td>2012.0</td>\n",
       "      <td>eng</td>\n",
       "      <td>1961</td>\n",
       "      <td>3.982143</td>\n",
       "    </tr>\n",
       "    <tr>\n",
       "      <th>9980</th>\n",
       "      <td>8970</td>\n",
       "      <td>U61915</td>\n",
       "      <td>1987.0</td>\n",
       "      <td>eng</td>\n",
       "      <td>495</td>\n",
       "      <td>3.615385</td>\n",
       "    </tr>\n",
       "  </tbody>\n",
       "</table>\n",
       "<p>9981 rows × 6 columns</p>\n",
       "</div>"
      ],
      "text/plain": [
       "      song_id platform_id  released_year language  number_of_comments  \\\n",
       "0        8328   T17332564         2013.0      eng                1936   \n",
       "1        8591     T773514         1925.0      eng                 420   \n",
       "2         718      U10975         1929.0      eng                5485   \n",
       "3        6593      Y12839         1968.0      NaN                 200   \n",
       "4         743      Q28881         2002.0    en-US               10411   \n",
       "...       ...         ...            ...      ...                 ...   \n",
       "9976     2048   X15811568         2013.0      eng                4793   \n",
       "9977     2552       W9597         1952.0      eng                1365   \n",
       "9978     6741     T105574         2006.0    en-US                1296   \n",
       "9979     4564   W13624367         2012.0      eng                1961   \n",
       "9980     8970      U61915         1987.0      eng                 495   \n",
       "\n",
       "       score_y  \n",
       "0     3.562500  \n",
       "1     4.105263  \n",
       "2     3.706667  \n",
       "3     4.266667  \n",
       "4     4.132184  \n",
       "...        ...  \n",
       "9976  3.657895  \n",
       "9977  3.796875  \n",
       "9978  3.687500  \n",
       "9979  3.982143  \n",
       "9980  3.615385  \n",
       "\n",
       "[9981 rows x 6 columns]"
      ]
     },
     "execution_count": 5,
     "metadata": {},
     "output_type": "execute_result"
    }
   ],
   "source": [
    "songs"
   ]
  },
  {
   "cell_type": "code",
   "execution_count": null,
   "metadata": {},
   "outputs": [],
   "source": [
    "song_num_ratings = train['song_id'].value_counts().to_frame()"
   ]
  },
  {
   "cell_type": "code",
   "execution_count": null,
   "metadata": {},
   "outputs": [],
   "source": [
    "song_num_ratings['num_ratings'] = song_num_ratings['song_id']"
   ]
  },
  {
   "cell_type": "code",
   "execution_count": null,
   "metadata": {},
   "outputs": [],
   "source": [
    "song_num_ratings['song_id'] = song_num_ratings.index"
   ]
  },
  {
   "cell_type": "code",
   "execution_count": null,
   "metadata": {},
   "outputs": [],
   "source": [
    "songs = songs.merge(song_num_ratings, on = 'song_id', how = 'left')"
   ]
  },
  {
   "cell_type": "code",
   "execution_count": null,
   "metadata": {},
   "outputs": [],
   "source": [
    "songs.drop_duplicates('song_id', keep = 'first', inplace = True)"
   ]
  },
  {
   "cell_type": "code",
   "execution_count": null,
   "metadata": {},
   "outputs": [],
   "source": [
    "f = pd.merge(train_rem, save_for_later, on=['customer_id','song_id'], how='left', indicator='Exist')"
   ]
  },
  {
   "cell_type": "code",
   "execution_count": null,
   "metadata": {},
   "outputs": [],
   "source": [
    "train_rem = f"
   ]
  },
  {
   "cell_type": "code",
   "execution_count": null,
   "metadata": {},
   "outputs": [],
   "source": [
    "X_train = pd.merge(train_rem, songs, on = ['song_id'], how = 'left')"
   ]
  },
  {
   "cell_type": "code",
   "execution_count": null,
   "metadata": {},
   "outputs": [],
   "source": [
    "Y_train = X_train['score']"
   ]
  },
  {
   "cell_type": "code",
   "execution_count": null,
   "metadata": {},
   "outputs": [],
   "source": [
    "X_train.drop(['score'], axis = 1, inplace = True)"
   ]
  },
  {
   "cell_type": "code",
   "execution_count": null,
   "metadata": {},
   "outputs": [],
   "source": [
    "X_train['released_year'] = X_train['released_year'].fillna(-999)\n",
    "X_train['language'] = X_train['language'].fillna('none')\n",
    "X_train['number_of_comments'] = X_train['number_of_comments'].fillna(-999)"
   ]
  },
  {
   "cell_type": "code",
   "execution_count": null,
   "metadata": {},
   "outputs": [],
   "source": [
    "X_train.columns.to_numpy().tolist()"
   ]
  },
  {
   "cell_type": "code",
   "execution_count": null,
   "metadata": {},
   "outputs": [],
   "source": [
    "from catboost import CatBoostRegressor"
   ]
  },
  {
   "cell_type": "code",
   "execution_count": null,
   "metadata": {},
   "outputs": [],
   "source": [
    "model = CatBoostRegressor()"
   ]
  },
  {
   "cell_type": "code",
   "execution_count": null,
   "metadata": {},
   "outputs": [],
   "source": [
    "model.fit(X_train, Y_train, cat_features = [0,1, 103, 105], plot = True)"
   ]
  },
  {
   "cell_type": "code",
   "execution_count": null,
   "metadata": {},
   "outputs": [],
   "source": [
    "test = test.merge(customer_weights_df, on = 'customer_id', how = 'left')"
   ]
  },
  {
   "cell_type": "code",
   "execution_count": null,
   "metadata": {},
   "outputs": [],
   "source": [
    "estimates_test = []\n",
    "for k in range(len(test.index.to_numpy())):\n",
    "    customer_weight = customer_weights[test['customer_id'].iloc[k]]\n",
    "    song_weight = song_weights[test['song_id'].iloc[k]]\n",
    "    estimate = np.dot(customer_weight, song_weight)\n",
    "    estimates_test.append(estimate)"
   ]
  },
  {
   "cell_type": "code",
   "execution_count": null,
   "metadata": {},
   "outputs": [],
   "source": [
    "test['estimates'] = estimates_test"
   ]
  },
  {
   "cell_type": "code",
   "execution_count": null,
   "metadata": {},
   "outputs": [],
   "source": [
    "test = pd.merge(test, save_for_later, on=['customer_id','song_id'], how='left', indicator='Exist')"
   ]
  },
  {
   "cell_type": "code",
   "execution_count": null,
   "metadata": {},
   "outputs": [],
   "source": [
    "X_test = pd.merge(test, songs, on = ['song_id'], how = 'left')"
   ]
  },
  {
   "cell_type": "code",
   "execution_count": null,
   "metadata": {},
   "outputs": [],
   "source": [
    "X_test['released_year'] = X_test['released_year'].fillna(-999)\n",
    "X_test['language'] = X_test['language'].fillna('none')\n",
    "X_test['number_of_comments'] = X_test['number_of_comments'].fillna(-999)"
   ]
  },
  {
   "cell_type": "code",
   "execution_count": null,
   "metadata": {},
   "outputs": [],
   "source": [
    "X_test.columns.to_numpy().tolist()"
   ]
  },
  {
   "cell_type": "code",
   "execution_count": null,
   "metadata": {},
   "outputs": [],
   "source": [
    "y_test_pred = model.predict(X_test)"
   ]
  },
  {
   "cell_type": "code",
   "execution_count": null,
   "metadata": {},
   "outputs": [],
   "source": [
    "y_final = pd.DataFrame(y_test_pred)"
   ]
  },
  {
   "cell_type": "code",
   "execution_count": null,
   "metadata": {},
   "outputs": [],
   "source": [
    "y_final['score'] = y_final[0]"
   ]
  },
  {
   "cell_type": "code",
   "execution_count": null,
   "metadata": {},
   "outputs": [],
   "source": [
    "y_final.drop(0, axis = 1, inplace = True)"
   ]
  },
  {
   "cell_type": "code",
   "execution_count": null,
   "metadata": {},
   "outputs": [],
   "source": [
    "y_final['test_row_id'] = y_final.index"
   ]
  },
  {
   "cell_type": "code",
   "execution_count": null,
   "metadata": {},
   "outputs": [],
   "source": [
    "y_final = y_final[['test_row_id', 'score']]"
   ]
  },
  {
   "cell_type": "code",
   "execution_count": null,
   "metadata": {},
   "outputs": [],
   "source": [
    "y_final.to_csv('colab_regularised.csv', index = False)"
   ]
  },
  {
   "cell_type": "code",
   "execution_count": null,
   "metadata": {},
   "outputs": [],
   "source": [
    "customer_weights_df.to_csv('data/customer_weights.csv', index = False)"
   ]
  },
  {
   "cell_type": "code",
   "execution_count": null,
   "metadata": {},
   "outputs": [],
   "source": [
    "temp = pd.read_csv('data/customer_weights.csv')"
   ]
  },
  {
   "cell_type": "code",
   "execution_count": null,
   "metadata": {},
   "outputs": [],
   "source": [
    "temp"
   ]
  },
  {
   "cell_type": "code",
   "execution_count": null,
   "metadata": {},
   "outputs": [],
   "source": [
    "customer_weights_df"
   ]
  },
  {
   "cell_type": "code",
   "execution_count": null,
   "metadata": {},
   "outputs": [],
   "source": [
    "song_weights_df.to_csv('data/song_weights.csv', index = False)"
   ]
  },
  {
   "cell_type": "code",
   "execution_count": null,
   "metadata": {},
   "outputs": [],
   "source": [
    "import pickle"
   ]
  },
  {
   "cell_type": "code",
   "execution_count": null,
   "metadata": {},
   "outputs": [],
   "source": [
    "a_file = open(\"data/customer_weights.pkl\", \"wb\")"
   ]
  },
  {
   "cell_type": "code",
   "execution_count": null,
   "metadata": {},
   "outputs": [],
   "source": [
    "pickle.dump(customer_weights, a_file)"
   ]
  },
  {
   "cell_type": "code",
   "execution_count": null,
   "metadata": {},
   "outputs": [],
   "source": [
    "a_file.close()"
   ]
  },
  {
   "cell_type": "code",
   "execution_count": null,
   "metadata": {},
   "outputs": [],
   "source": [
    "b_file = open(\"data/song_weights.pkl\", \"wb\")"
   ]
  },
  {
   "cell_type": "code",
   "execution_count": null,
   "metadata": {},
   "outputs": [],
   "source": [
    "pickle.dump(song_weights, b_file)"
   ]
  },
  {
   "cell_type": "code",
   "execution_count": null,
   "metadata": {},
   "outputs": [],
   "source": [
    "b_file.close()"
   ]
  },
  {
   "cell_type": "code",
   "execution_count": null,
   "metadata": {},
   "outputs": [],
   "source": []
  }
 ],
 "metadata": {
  "kernelspec": {
   "display_name": "Python 3",
   "language": "python",
   "name": "python3"
  },
  "language_info": {
   "codemirror_mode": {
    "name": "ipython",
    "version": 3
   },
   "file_extension": ".py",
   "mimetype": "text/x-python",
   "name": "python",
   "nbconvert_exporter": "python",
   "pygments_lexer": "ipython3",
   "version": "3.8.3"
  }
 },
 "nbformat": 4,
 "nbformat_minor": 4
}
