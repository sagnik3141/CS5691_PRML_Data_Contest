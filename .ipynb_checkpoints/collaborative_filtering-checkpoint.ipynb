{
 "cells": [
  {
   "cell_type": "code",
   "execution_count": 1,
   "metadata": {},
   "outputs": [],
   "source": [
    "# Imports\n",
    "\n",
    "import numpy as np\n",
    "import matplotlib.pyplot as plt\n",
    "import seaborn as sns\n",
    "import pandas as pd\n",
    "import sklearn\n",
    "import catboost"
   ]
  },
  {
   "cell_type": "code",
   "execution_count": 2,
   "metadata": {},
   "outputs": [],
   "source": [
    "# Loading Data\n",
    "\n",
    "train = pd.read_csv('data/train.csv')\n",
    "songs = pd.read_csv('data/songs.csv')\n",
    "song_labels = pd.read_csv('data/song_labels.csv')\n",
    "test = pd.read_csv('data/test.csv')\n",
    "save_for_later = pd.read_csv('data/save_for_later.csv')\n",
    "dummy_submission = pd.read_csv('data/dummy_submission.csv')"
   ]
  },
  {
   "cell_type": "code",
   "execution_count": 3,
   "metadata": {},
   "outputs": [
    {
     "data": {
      "text/html": [
       "<div>\n",
       "<style scoped>\n",
       "    .dataframe tbody tr th:only-of-type {\n",
       "        vertical-align: middle;\n",
       "    }\n",
       "\n",
       "    .dataframe tbody tr th {\n",
       "        vertical-align: top;\n",
       "    }\n",
       "\n",
       "    .dataframe thead th {\n",
       "        text-align: right;\n",
       "    }\n",
       "</style>\n",
       "<table border=\"1\" class=\"dataframe\">\n",
       "  <thead>\n",
       "    <tr style=\"text-align: right;\">\n",
       "      <th></th>\n",
       "      <th>customer_id</th>\n",
       "      <th>song_id</th>\n",
       "      <th>score</th>\n",
       "    </tr>\n",
       "  </thead>\n",
       "  <tbody>\n",
       "    <tr>\n",
       "      <th>0</th>\n",
       "      <td>O29219</td>\n",
       "      <td>3459</td>\n",
       "      <td>3</td>\n",
       "    </tr>\n",
       "    <tr>\n",
       "      <th>1</th>\n",
       "      <td>I50343</td>\n",
       "      <td>5326</td>\n",
       "      <td>4</td>\n",
       "    </tr>\n",
       "    <tr>\n",
       "      <th>2</th>\n",
       "      <td>N42888</td>\n",
       "      <td>236</td>\n",
       "      <td>5</td>\n",
       "    </tr>\n",
       "    <tr>\n",
       "      <th>3</th>\n",
       "      <td>F5740</td>\n",
       "      <td>724</td>\n",
       "      <td>4</td>\n",
       "    </tr>\n",
       "    <tr>\n",
       "      <th>4</th>\n",
       "      <td>K4115</td>\n",
       "      <td>8452</td>\n",
       "      <td>5</td>\n",
       "    </tr>\n",
       "    <tr>\n",
       "      <th>...</th>\n",
       "      <td>...</td>\n",
       "      <td>...</td>\n",
       "      <td>...</td>\n",
       "    </tr>\n",
       "    <tr>\n",
       "      <th>710104</th>\n",
       "      <td>H6322</td>\n",
       "      <td>1003</td>\n",
       "      <td>4</td>\n",
       "    </tr>\n",
       "    <tr>\n",
       "      <th>710105</th>\n",
       "      <td>L6306</td>\n",
       "      <td>705</td>\n",
       "      <td>5</td>\n",
       "    </tr>\n",
       "    <tr>\n",
       "      <th>710106</th>\n",
       "      <td>J2494</td>\n",
       "      <td>6028</td>\n",
       "      <td>3</td>\n",
       "    </tr>\n",
       "    <tr>\n",
       "      <th>710107</th>\n",
       "      <td>G41961</td>\n",
       "      <td>2397</td>\n",
       "      <td>4</td>\n",
       "    </tr>\n",
       "    <tr>\n",
       "      <th>710108</th>\n",
       "      <td>H14592</td>\n",
       "      <td>857</td>\n",
       "      <td>5</td>\n",
       "    </tr>\n",
       "  </tbody>\n",
       "</table>\n",
       "<p>710109 rows × 3 columns</p>\n",
       "</div>"
      ],
      "text/plain": [
       "       customer_id  song_id  score\n",
       "0           O29219     3459      3\n",
       "1           I50343     5326      4\n",
       "2           N42888      236      5\n",
       "3            F5740      724      4\n",
       "4            K4115     8452      5\n",
       "...            ...      ...    ...\n",
       "710104       H6322     1003      4\n",
       "710105       L6306      705      5\n",
       "710106       J2494     6028      3\n",
       "710107      G41961     2397      4\n",
       "710108      H14592      857      5\n",
       "\n",
       "[710109 rows x 3 columns]"
      ]
     },
     "execution_count": 3,
     "metadata": {},
     "output_type": "execute_result"
    }
   ],
   "source": [
    "train"
   ]
  },
  {
   "cell_type": "code",
   "execution_count": 4,
   "metadata": {},
   "outputs": [],
   "source": [
    "customer_id_list = train['customer_id'].unique()"
   ]
  },
  {
   "cell_type": "code",
   "execution_count": 5,
   "metadata": {},
   "outputs": [],
   "source": [
    "song_id_list = train['song_id'].unique()"
   ]
  },
  {
   "cell_type": "code",
   "execution_count": 6,
   "metadata": {},
   "outputs": [],
   "source": [
    "learning_rate = 0.01\n",
    "iters = 1\n",
    "dim = 100\n",
    "# Initialization\n",
    "\n",
    "customer_weights = {}\n",
    "for customer in customer_id_list:\n",
    "    customer_weights[customer] = np.random.uniform(0, 10e-10, dim)\n",
    "    \n",
    "song_weights = {}\n",
    "for song in song_id_list:\n",
    "    song_weights[song] = np.random.uniform(0, 10e-10, dim)"
   ]
  },
  {
   "cell_type": "code",
   "execution_count": 7,
   "metadata": {},
   "outputs": [
    {
     "name": "stdout",
     "output_type": "stream",
     "text": [
      "0\n",
      "32.343984842300415\n"
     ]
    }
   ],
   "source": [
    "# Training\n",
    "import time\n",
    "start = time.time()\n",
    "for i in range(iters):\n",
    "    for k in range(len(train.index.to_numpy())):\n",
    "        customer_weight = customer_weights[train['customer_id'].iloc[k]]\n",
    "        song_weight = song_weights[train['song_id'].iloc[k]]\n",
    "        y = train['score'].iloc[k]\n",
    "        \n",
    "        temp = y - np.dot(customer_weight, song_weight)\n",
    "        customer_weight_new = customer_weight + learning_rate*temp*song_weight\n",
    "        song_weight_new = song_weight + learning_rate*temp*customer_weight\n",
    "        customer_weights[train['customer_id'].iloc[k]] = customer_weight_new\n",
    "        song_weights[train['song_id'].iloc[k]] = song_weight_new\n",
    "    print(i)\n",
    "            \n",
    "print(time.time()-start)"
   ]
  },
  {
   "cell_type": "code",
   "execution_count": 8,
   "metadata": {},
   "outputs": [
    {
     "data": {
      "text/plain": [
       "array([1.90349328e-07, 1.93531650e-07, 1.90448781e-07, 1.88571087e-07,\n",
       "       1.91219494e-07, 1.92824228e-07, 1.92200864e-07, 1.92050641e-07,\n",
       "       1.91246160e-07, 1.90076475e-07, 1.92240696e-07, 1.90459081e-07,\n",
       "       1.90627548e-07, 1.93809458e-07, 1.91500758e-07, 1.92274304e-07,\n",
       "       1.90246494e-07, 1.91352337e-07, 1.88942243e-07, 1.89555339e-07,\n",
       "       1.90257856e-07, 1.91670277e-07, 1.90303134e-07, 1.92832741e-07,\n",
       "       1.90215367e-07, 1.89755822e-07, 1.91708927e-07, 1.89338181e-07,\n",
       "       1.90682089e-07, 1.91737812e-07, 1.90737679e-07, 1.92664562e-07,\n",
       "       1.90077368e-07, 1.92117567e-07, 1.90971853e-07, 1.91426077e-07,\n",
       "       1.90956120e-07, 1.91047663e-07, 1.90375816e-07, 1.92214035e-07,\n",
       "       1.92408135e-07, 1.92703665e-07, 1.91160074e-07, 1.89772349e-07,\n",
       "       1.90589543e-07, 1.91310475e-07, 1.89808504e-07, 1.93040431e-07,\n",
       "       1.90374106e-07, 1.93753367e-07, 1.91779414e-07, 1.91858699e-07,\n",
       "       1.91864542e-07, 1.90404719e-07, 1.92016138e-07, 1.90924653e-07,\n",
       "       1.90428613e-07, 1.92574816e-07, 1.92132531e-07, 1.91840102e-07,\n",
       "       1.92345249e-07, 1.90625089e-07, 1.91374270e-07, 1.90505153e-07,\n",
       "       1.90194820e-07, 1.92169695e-07, 1.90337420e-07, 1.92265399e-07,\n",
       "       1.92152384e-07, 1.90309456e-07, 1.91053125e-07, 1.89033211e-07,\n",
       "       1.91343558e-07, 1.89703893e-07, 1.91228848e-07, 1.90698840e-07,\n",
       "       1.92382647e-07, 1.91076934e-07, 1.90004470e-07, 1.93673321e-07,\n",
       "       1.89472581e-07, 1.93111204e-07, 1.91786055e-07, 1.92041030e-07,\n",
       "       1.91295573e-07, 1.91934386e-07, 1.93155103e-07, 1.91719870e-07,\n",
       "       1.91656960e-07, 1.91410954e-07, 1.92070076e-07, 1.93698583e-07,\n",
       "       1.92815757e-07, 1.91559740e-07, 1.90658437e-07, 1.93087195e-07,\n",
       "       1.90292870e-07, 1.91564060e-07, 1.89318307e-07, 1.93616259e-07])"
      ]
     },
     "execution_count": 8,
     "metadata": {},
     "output_type": "execute_result"
    }
   ],
   "source": [
    "customer_weights['O29219']"
   ]
  },
  {
   "cell_type": "code",
   "execution_count": 9,
   "metadata": {},
   "outputs": [
    {
     "data": {
      "text/plain": [
       "array([7.76876404e-08, 7.93804414e-08, 7.82205386e-08, 7.71338325e-08,\n",
       "       7.87186526e-08, 7.86536622e-08, 7.84011414e-08, 7.86586448e-08,\n",
       "       7.84995447e-08, 7.82190865e-08, 7.89918912e-08, 7.78126471e-08,\n",
       "       7.79624419e-08, 7.93316857e-08, 7.81117891e-08, 7.90858281e-08,\n",
       "       7.81604538e-08, 7.82019719e-08, 7.75841741e-08, 7.72529685e-08,\n",
       "       7.76142768e-08, 7.81358645e-08, 7.76607941e-08, 7.93154995e-08,\n",
       "       7.76319024e-08, 7.73757892e-08, 7.89438890e-08, 7.79003943e-08,\n",
       "       7.81871407e-08, 7.81264899e-08, 7.79458983e-08, 7.87458337e-08,\n",
       "       7.74563593e-08, 7.81734421e-08, 7.84959658e-08, 7.83563728e-08,\n",
       "       7.77495987e-08, 7.78459649e-08, 7.74533000e-08, 7.84019451e-08,\n",
       "       7.86529692e-08, 7.90942696e-08, 7.82877835e-08, 7.75519878e-08,\n",
       "       7.76243376e-08, 7.79973863e-08, 7.83261567e-08, 7.90958687e-08,\n",
       "       7.78825749e-08, 7.94079596e-08, 7.85822677e-08, 7.83061303e-08,\n",
       "       7.86527925e-08, 7.86562085e-08, 7.83775872e-08, 7.78172303e-08,\n",
       "       7.80168912e-08, 7.89891783e-08, 7.86679382e-08, 7.82630200e-08,\n",
       "       7.90712293e-08, 7.75065219e-08, 7.80679950e-08, 7.81596713e-08,\n",
       "       7.75764502e-08, 7.88736303e-08, 7.80685218e-08, 7.86127058e-08,\n",
       "       7.85681043e-08, 7.79749255e-08, 7.80261711e-08, 7.76064501e-08,\n",
       "       7.85449321e-08, 7.75067474e-08, 7.83091103e-08, 7.83340826e-08,\n",
       "       7.91413144e-08, 7.81343077e-08, 7.79828681e-08, 7.87169465e-08,\n",
       "       7.75568653e-08, 7.91616320e-08, 7.88789857e-08, 7.83937597e-08,\n",
       "       7.87406758e-08, 7.88439224e-08, 7.85408296e-08, 7.80795001e-08,\n",
       "       7.87839087e-08, 7.86173882e-08, 7.88929873e-08, 7.90656923e-08,\n",
       "       7.83467886e-08, 7.88102578e-08, 7.79441085e-08, 7.85654038e-08,\n",
       "       7.82246394e-08, 7.87937635e-08, 7.75570933e-08, 7.96072796e-08])"
      ]
     },
     "execution_count": 9,
     "metadata": {},
     "output_type": "execute_result"
    }
   ],
   "source": [
    "song_weights[3459]"
   ]
  },
  {
   "cell_type": "code",
   "execution_count": null,
   "metadata": {},
   "outputs": [],
   "source": []
  }
 ],
 "metadata": {
  "kernelspec": {
   "display_name": "Python 3",
   "language": "python",
   "name": "python3"
  },
  "language_info": {
   "codemirror_mode": {
    "name": "ipython",
    "version": 3
   },
   "file_extension": ".py",
   "mimetype": "text/x-python",
   "name": "python",
   "nbconvert_exporter": "python",
   "pygments_lexer": "ipython3",
   "version": "3.8.3"
  }
 },
 "nbformat": 4,
 "nbformat_minor": 4
}
