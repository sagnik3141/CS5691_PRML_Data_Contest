{
 "cells": [
  {
   "cell_type": "code",
   "execution_count": 1,
   "metadata": {},
   "outputs": [],
   "source": [
    "# Imports\n",
    "\n",
    "import numpy as np\n",
    "import matplotlib.pyplot as plt\n",
    "import seaborn as sns\n",
    "import pandas as pd\n",
    "import sklearn\n",
    "import catboost"
   ]
  },
  {
   "cell_type": "code",
   "execution_count": 2,
   "metadata": {},
   "outputs": [],
   "source": [
    "# Loading Data\n",
    "\n",
    "train = pd.read_csv('data/train.csv')\n",
    "songs = pd.read_csv('data/songs.csv')\n",
    "song_labels = pd.read_csv('data/song_labels.csv')\n",
    "test = pd.read_csv('data/test.csv')\n",
    "save_for_later = pd.read_csv('data/save_for_later.csv')\n",
    "dummy_submission = pd.read_csv('data/dummy_submission.csv')"
   ]
  },
  {
   "cell_type": "code",
   "execution_count": 3,
   "metadata": {},
   "outputs": [],
   "source": [
    "from sklearn.model_selection import train_test_split\n",
    "train_init, train_rem = train_test_split(train, train_size = 0.6, random_state = 1023)"
   ]
  },
  {
   "cell_type": "code",
   "execution_count": 4,
   "metadata": {},
   "outputs": [],
   "source": [
    "customer_id_list = train_init['customer_id'].unique()"
   ]
  },
  {
   "cell_type": "code",
   "execution_count": 5,
   "metadata": {},
   "outputs": [],
   "source": [
    "song_id_list = train_init['song_id'].unique()"
   ]
  },
  {
   "cell_type": "code",
   "execution_count": 6,
   "metadata": {},
   "outputs": [],
   "source": [
    "learning_rate = 1e-2\n",
    "iters = 35\n",
    "dim = 10\n",
    "reg = 0.05\n",
    "# Initialization\n",
    "\n",
    "customer_weights = {}\n",
    "for customer in customer_id_list:\n",
    "    customer_weights[customer] = np.random.uniform(0, 10e-10, dim)\n",
    "    \n",
    "song_weights = {}\n",
    "for song in song_id_list:\n",
    "    song_weights[song] = np.random.uniform(0, 10e-10, dim)"
   ]
  },
  {
   "cell_type": "code",
   "execution_count": null,
   "metadata": {},
   "outputs": [],
   "source": [
    "# Training\n",
    "import time\n",
    "start = time.time()\n",
    "for i in range(iters):\n",
    "    for k in range(len(train.index.to_numpy())):\n",
    "        customer_weight = customer_weights[train['customer_id'].iloc[k]]\n",
    "        song_weight = song_weights[train['song_id'].iloc[k]]\n",
    "        y = train['score'].iloc[k]\n",
    "        \n",
    "        temp = y - np.dot(customer_weight, song_weight)\n",
    "        customer_weight_new = customer_weight + learning_rate*(temp*song_weight-reg*customer_weight)\n",
    "        song_weight_new = song_weight + learning_rate*(temp*customer_weight-reg*song_weight)\n",
    "        customer_weights[train['customer_id'].iloc[k]] = customer_weight_new\n",
    "        song_weights[train['song_id'].iloc[k]] = song_weight_new\n",
    "    estimates_train = []\n",
    "    for k in range(len(train.index.to_numpy())):\n",
    "        customer_weight = customer_weights[train['customer_id'].iloc[k]]\n",
    "        song_weight = song_weights[train['song_id'].iloc[k]]\n",
    "        estimate = np.dot(customer_weight, song_weight)\n",
    "        estimates_train.append(estimate)\n",
    "\n",
    "    estimates_validation = []\n",
    "    for k in range(len(validation.index.to_numpy())):\n",
    "        customer_weight = customer_weights[validation['customer_id'].iloc[k]]\n",
    "        song_weight = song_weights[validation['song_id'].iloc[k]]\n",
    "        estimate = np.dot(customer_weight, song_weight)\n",
    "        estimates_validation.append(estimate)\n",
    "    y_train = train['score'].to_numpy()\n",
    "    y_val = validation['score'].to_numpy()\n",
    "    estimates_train = np.array(estimates_train)\n",
    "    estimates_validation = np.array(estimates_validation)\n",
    "    train_error = (1/len(y_train))*np.linalg.norm(y_train - estimates_train)**2\n",
    "    val_error = (1/len(y_val))*np.linalg.norm(y_val - estimates_validation)**2\n",
    "    print(f'iter {i} train {train_error} val {val_error}')\n",
    "print(time.time()-start)"
   ]
  },
  {
   "cell_type": "code",
   "execution_count": null,
   "metadata": {},
   "outputs": [],
   "source": [
    "10"
   ]
  },
  {
   "cell_type": "code",
   "execution_count": null,
   "metadata": {},
   "outputs": [],
   "source": [
    "len(y_val)"
   ]
  },
  {
   "cell_type": "code",
   "execution_count": null,
   "metadata": {},
   "outputs": [],
   "source": [
    "customer_weights['K47325']"
   ]
  },
  {
   "cell_type": "code",
   "execution_count": null,
   "metadata": {},
   "outputs": [],
   "source": [
    "customer_weights_df = pd.DataFrame(customer_weights)"
   ]
  },
  {
   "cell_type": "code",
   "execution_count": null,
   "metadata": {},
   "outputs": [],
   "source": [
    "customer_weights_df = customer_weights_df.transpose()"
   ]
  },
  {
   "cell_type": "code",
   "execution_count": null,
   "metadata": {},
   "outputs": [],
   "source": [
    "customer_weights_df['customer_id'] = customer_weights_df.index"
   ]
  },
  {
   "cell_type": "code",
   "execution_count": null,
   "metadata": {},
   "outputs": [],
   "source": [
    "train = train.merge(customer_weights_df, on = 'customer_id', how = 'left')\n",
    "validation = validation.merge(customer_weights_df, on = 'customer_id', how = 'left')"
   ]
  },
  {
   "cell_type": "code",
   "execution_count": null,
   "metadata": {},
   "outputs": [],
   "source": [
    "song_weights_df = pd.DataFrame(song_weights)"
   ]
  },
  {
   "cell_type": "code",
   "execution_count": null,
   "metadata": {},
   "outputs": [],
   "source": [
    "song_weights_df = song_weights_df.transpose()"
   ]
  },
  {
   "cell_type": "code",
   "execution_count": null,
   "metadata": {},
   "outputs": [],
   "source": [
    "song_weights_df['song_id'] = song_weights_df.index"
   ]
  },
  {
   "cell_type": "code",
   "execution_count": null,
   "metadata": {},
   "outputs": [],
   "source": [
    "songs = songs.merge(song_weights_df, on = 'song_id', how = 'left')"
   ]
  },
  {
   "cell_type": "code",
   "execution_count": null,
   "metadata": {},
   "outputs": [],
   "source": [
    "estimates_train = []\n",
    "for k in range(len(train.index.to_numpy())):\n",
    "    customer_weight = customer_weights[train['customer_id'].iloc[k]]\n",
    "    song_weight = song_weights[train['song_id'].iloc[k]]\n",
    "    estimate = np.dot(customer_weight, song_weight)\n",
    "    estimates_train.append(estimate)\n",
    "\n",
    "estimates_validation = []\n",
    "for k in range(len(validation.index.to_numpy())):\n",
    "    customer_weight = customer_weights[validation['customer_id'].iloc[k]]\n",
    "    song_weight = song_weights[validation['song_id'].iloc[k]]\n",
    "    estimate = np.dot(customer_weight, song_weight)\n",
    "    estimates_validation.append(estimate)"
   ]
  },
  {
   "cell_type": "code",
   "execution_count": null,
   "metadata": {},
   "outputs": [],
   "source": [
    "validation['estimates'] = estimates_validation\n",
    "train['estimates'] = estimates_train"
   ]
  },
  {
   "cell_type": "code",
   "execution_count": null,
   "metadata": {},
   "outputs": [],
   "source": [
    "song_labels_new = song_labels.groupby('label_id').sum().sort_values('count', ascending = False)"
   ]
  },
  {
   "cell_type": "code",
   "execution_count": null,
   "metadata": {},
   "outputs": [],
   "source": [
    "song_labels_new.reset_index(inplace = True)"
   ]
  },
  {
   "cell_type": "code",
   "execution_count": null,
   "metadata": {},
   "outputs": [],
   "source": [
    "principal_song_labels = song_labels_new['label_id'].to_numpy()[:10]"
   ]
  },
  {
   "cell_type": "code",
   "execution_count": null,
   "metadata": {},
   "outputs": [],
   "source": [
    "for i in principal_song_labels:\n",
    "    label = song_labels[song_labels['label_id'] == i]\n",
    "    label = label.reset_index().drop(['index', 'label_id'], axis = 1)\n",
    "    label[f'count{i}'] = label['count']\n",
    "    label.drop(['count'], axis = 1, inplace = True)\n",
    "    songs = pd.merge(songs, label, on = 'platform_id', how = 'left')"
   ]
  },
  {
   "cell_type": "code",
   "execution_count": null,
   "metadata": {},
   "outputs": [],
   "source": [
    "for i in principal_song_labels:\n",
    "    songs[f'count{i}'] = songs[f'count{i}'].fillna(0)"
   ]
  },
  {
   "cell_type": "code",
   "execution_count": null,
   "metadata": {},
   "outputs": [],
   "source": [
    "songs = songs.drop(['platform_id'], axis = 1)"
   ]
  },
  {
   "cell_type": "code",
   "execution_count": null,
   "metadata": {},
   "outputs": [],
   "source": [
    "song_scores = train.merge(train.groupby('song_id').mean(), on = 'song_id', how = 'left')[['song_id', 'score_y']].drop_duplicates('song_id', keep = 'first')"
   ]
  },
  {
   "cell_type": "code",
   "execution_count": null,
   "metadata": {},
   "outputs": [],
   "source": [
    "songs = songs.merge(song_scores, on = 'song_id', how = 'left')"
   ]
  },
  {
   "cell_type": "code",
   "execution_count": null,
   "metadata": {},
   "outputs": [],
   "source": [
    "song_num_ratings = train['song_id'].value_counts().to_frame()"
   ]
  },
  {
   "cell_type": "code",
   "execution_count": null,
   "metadata": {},
   "outputs": [],
   "source": [
    "song_num_ratings['num_ratings'] = song_num_ratings['song_id']"
   ]
  },
  {
   "cell_type": "code",
   "execution_count": null,
   "metadata": {},
   "outputs": [],
   "source": [
    "song_num_ratings['song_id'] = song_num_ratings.index"
   ]
  },
  {
   "cell_type": "code",
   "execution_count": null,
   "metadata": {},
   "outputs": [],
   "source": [
    "songs = songs.merge(song_num_ratings, on = 'song_id', how = 'left')"
   ]
  },
  {
   "cell_type": "code",
   "execution_count": null,
   "metadata": {},
   "outputs": [],
   "source": [
    "songs.drop_duplicates('song_id', keep = 'first', inplace = True)"
   ]
  },
  {
   "cell_type": "code",
   "execution_count": null,
   "metadata": {},
   "outputs": [],
   "source": [
    "f = pd.merge(train, save_for_later, on=['customer_id','song_id'], how='left', indicator='Exist')"
   ]
  },
  {
   "cell_type": "code",
   "execution_count": null,
   "metadata": {},
   "outputs": [],
   "source": [
    "fv = pd.merge(validation, save_for_later, on=['customer_id','song_id'], how='left', indicator='Exist')"
   ]
  },
  {
   "cell_type": "code",
   "execution_count": null,
   "metadata": {},
   "outputs": [],
   "source": [
    "train = f\n",
    "validation = fv"
   ]
  },
  {
   "cell_type": "code",
   "execution_count": null,
   "metadata": {},
   "outputs": [],
   "source": [
    "X_train = pd.merge(train, songs, on = ['song_id'], how = 'left')\n",
    "X_val = pd.merge(validation, songs, on = ['song_id'], how = 'left')"
   ]
  },
  {
   "cell_type": "code",
   "execution_count": null,
   "metadata": {},
   "outputs": [],
   "source": [
    "Y_train = X_train['score']\n",
    "Y_val = X_val['score']"
   ]
  },
  {
   "cell_type": "code",
   "execution_count": null,
   "metadata": {},
   "outputs": [],
   "source": [
    "X_train.drop(['score'], axis = 1, inplace = True)\n",
    "X_val.drop(['score'], axis = 1, inplace = True)"
   ]
  },
  {
   "cell_type": "code",
   "execution_count": null,
   "metadata": {},
   "outputs": [],
   "source": [
    "X_train.drop('song_id', axis = 1, inplace = True)\n",
    "X_val.drop('song_id', axis = 1, inplace = True)"
   ]
  },
  {
   "cell_type": "code",
   "execution_count": null,
   "metadata": {},
   "outputs": [],
   "source": [
    "X_train['released_year'] = X_train['released_year'].fillna(-999)\n",
    "X_train['language'] = X_train['language'].fillna('none')\n",
    "X_train['number_of_comments'] = X_train['number_of_comments'].fillna(-999)\n",
    "\n",
    "X_val['released_year'] = X_val['released_year'].fillna(-999)\n",
    "X_val['language'] = X_val['language'].fillna('none')\n",
    "X_val['number_of_comments'] = X_val['number_of_comments'].fillna(-999)"
   ]
  },
  {
   "cell_type": "code",
   "execution_count": null,
   "metadata": {},
   "outputs": [],
   "source": [
    "X_train.columns.to_numpy().tolist()"
   ]
  },
  {
   "cell_type": "code",
   "execution_count": null,
   "metadata": {},
   "outputs": [],
   "source": [
    "from catboost import CatBoostRegressor"
   ]
  },
  {
   "cell_type": "code",
   "execution_count": null,
   "metadata": {},
   "outputs": [],
   "source": [
    "model = CatBoostRegressor()"
   ]
  },
  {
   "cell_type": "code",
   "execution_count": null,
   "metadata": {},
   "outputs": [],
   "source": [
    "eval_dataset = catboost.Pool(data=X_val,\n",
    "                    label=Y_val,\n",
    "                    cat_features=[0, 1, 13, 15])\n",
    "model.fit(X_train, Y_train, eval_set = eval_dataset, cat_features = [0, 1, 13, 15], use_best_model = True, plot = True)"
   ]
  },
  {
   "cell_type": "code",
   "execution_count": null,
   "metadata": {},
   "outputs": [],
   "source": [
    "validation"
   ]
  },
  {
   "cell_type": "code",
   "execution_count": null,
   "metadata": {},
   "outputs": [],
   "source": [
    "customer_weights_df[customer_weights_df['customer_id'] == 'F38860']"
   ]
  },
  {
   "cell_type": "code",
   "execution_count": null,
   "metadata": {},
   "outputs": [],
   "source": []
  }
 ],
 "metadata": {
  "kernelspec": {
   "display_name": "Python 3",
   "language": "python",
   "name": "python3"
  },
  "language_info": {
   "codemirror_mode": {
    "name": "ipython",
    "version": 3
   },
   "file_extension": ".py",
   "mimetype": "text/x-python",
   "name": "python",
   "nbconvert_exporter": "python",
   "pygments_lexer": "ipython3",
   "version": "3.8.3"
  }
 },
 "nbformat": 4,
 "nbformat_minor": 4
}
