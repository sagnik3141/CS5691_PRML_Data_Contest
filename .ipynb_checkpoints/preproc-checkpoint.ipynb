{
 "cells": [
  {
   "cell_type": "code",
   "execution_count": 1,
   "metadata": {},
   "outputs": [],
   "source": [
    "# Imports\n",
    "\n",
    "import numpy as np\n",
    "import matplotlib.pyplot as plt\n",
    "import seaborn as sns\n",
    "import pandas as pd\n",
    "import sklearn\n",
    "import catboost"
   ]
  },
  {
   "cell_type": "code",
   "execution_count": 2,
   "metadata": {},
   "outputs": [],
   "source": [
    "# Loading Data\n",
    "\n",
    "train = pd.read_csv('data/train.csv')\n",
    "songs = pd.read_csv('data/songs.csv')\n",
    "song_labels = pd.read_csv('data/song_labels.csv')\n",
    "test = pd.read_csv('data/test.csv')\n",
    "save_for_later = pd.read_csv('data/save_for_later.csv')\n",
    "dummy_submission = pd.read_csv('data/dummy_submission.csv')"
   ]
  },
  {
   "cell_type": "code",
   "execution_count": 3,
   "metadata": {},
   "outputs": [],
   "source": [
    "# songs preprocessing\n",
    "\n",
    "song_labels_new = song_labels.groupby('label_id').sum().sort_values('count', ascending = False)\n",
    "song_labels_new.reset_index(inplace = True)\n",
    "principal_song_labels = song_labels_new['label_id'].to_numpy()[:100]\n",
    "\n",
    "for i in principal_song_labels:\n",
    "    label = song_labels[song_labels['label_id'] == i]\n",
    "    label = label.reset_index().drop(['index', 'label_id'], axis = 1)\n",
    "    label[f'count{i}'] = label['count']\n",
    "    label.drop(['count'], axis = 1, inplace = True)\n",
    "    songs = pd.merge(songs, label, on = 'platform_id', how = 'left')\n",
    "    \n",
    "for i in principal_song_labels:\n",
    "    songs[f'count{i}'] = songs[f'count{i}'].fillna(0)\n",
    "    \n",
    "songs = songs.drop(['platform_id'], axis = 1)\n",
    "\n",
    "song_scores = train.merge(train.groupby('song_id').mean(), on = 'song_id', how = 'left')[['song_id', 'score_y']].drop_duplicates('song_id', keep = 'first')\n",
    "\n",
    "songs = songs.merge(song_scores, on = 'song_id', how = 'left')\n",
    "\n",
    "song_num_ratings = train['song_id'].value_counts().to_frame()\n",
    "\n",
    "song_num_ratings['num_ratings'] = song_num_ratings['song_id']\n",
    "song_num_ratings['song_id'] = song_num_ratings.index\n",
    "songs = songs.merge(song_num_ratings, on = 'song_id', how = 'left')\n",
    "\n",
    "songs.drop_duplicates('song_id', keep = 'first', inplace = True)"
   ]
  },
  {
   "cell_type": "code",
   "execution_count": 4,
   "metadata": {},
   "outputs": [],
   "source": [
    "# train preprocessing\n",
    "\n",
    "f = pd.merge(train, save_for_later, on=['customer_id','song_id'], how='left', indicator='Exist')\n",
    "train = f\n",
    "\n",
    "X_train = pd.merge(train, songs, on = ['song_id'], how = 'left')\n",
    "Y_train = X_train['score']\n",
    "X_train.drop(['score'], axis = 1, inplace = True)\n",
    "X_train.drop('song_id', axis = 1, inplace = True)\n",
    "\n",
    "X_train['released_year'] = X_train['released_year'].fillna(-999)\n",
    "X_train['language'] = X_train['language'].fillna('none')\n",
    "X_train['number_of_comments'] = X_train['number_of_comments'].fillna(-999)"
   ]
  },
  {
   "cell_type": "code",
   "execution_count": null,
   "metadata": {},
   "outputs": [],
   "source": [
    "# Training\n",
    "\n",
    "from sklearn.model_selection import train_test_split\n",
    "x_train, x_test, y_train, y_test = train_test_split(X_train, Y_train, train_size = 0.8)\n",
    "\n",
    "from catboost import CatBoostRegressor\n",
    "\n",
    "model = CatBoostRegressor()\n",
    "\n",
    "eval_dataset = catboost.Pool(data=x_test,\n",
    "                    label=y_test,\n",
    "                    cat_features=[0, 1, 3])\n",
    "model.fit(x_train, y_train, eval_set = eval_dataset, cat_features = [0, 1, 3], use_best_model = True, plot = True)"
   ]
  },
  {
   "cell_type": "code",
   "execution_count": null,
   "metadata": {},
   "outputs": [],
   "source": [
    "# test preprocessing\n",
    "test = pd.merge(test, save_for_later, on=['customer_id','song_id'], how='left', indicator='Exist')\n",
    "X_test = pd.merge(test, songs, on = ['song_id'], how = 'left')\n",
    "X_test.drop('song_id', axis = 1, inplace = True)\n",
    "\n",
    "X_test['released_year'] = X_test['released_year'].fillna(-999)\n",
    "X_test['language'] = X_test['language'].fillna('none')\n",
    "X_test['number_of_comments'] = X_test['number_of_comments'].fillna(-999)"
   ]
  },
  {
   "cell_type": "code",
   "execution_count": null,
   "metadata": {},
   "outputs": [],
   "source": [
    "# Predicting\n",
    "y_test_pred = model.predict(X_test)"
   ]
  }
 ],
 "metadata": {
  "kernelspec": {
   "display_name": "Python 3",
   "language": "python",
   "name": "python3"
  },
  "language_info": {
   "codemirror_mode": {
    "name": "ipython",
    "version": 3
   },
   "file_extension": ".py",
   "mimetype": "text/x-python",
   "name": "python",
   "nbconvert_exporter": "python",
   "pygments_lexer": "ipython3",
   "version": "3.8.3"
  }
 },
 "nbformat": 4,
 "nbformat_minor": 4
}
