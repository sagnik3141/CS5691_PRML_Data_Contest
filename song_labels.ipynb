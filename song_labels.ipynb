{
 "cells": [
  {
   "cell_type": "code",
   "execution_count": null,
   "metadata": {},
   "outputs": [],
   "source": [
    "# Imports\n",
    "\n",
    "import numpy as np\n",
    "import matplotlib.pyplot as plt\n",
    "import seaborn as sns\n",
    "import pandas as pd\n",
    "import sklearn\n",
    "import catboost"
   ]
  },
  {
   "cell_type": "code",
   "execution_count": null,
   "metadata": {},
   "outputs": [],
   "source": [
    "# Loading Data\n",
    "\n",
    "train = pd.read_csv('data/train.csv')\n",
    "songs = pd.read_csv('data/songs.csv')\n",
    "song_labels = pd.read_csv('data/song_labels.csv')\n",
    "test = pd.read_csv('data/test.csv')\n",
    "save_for_later = pd.read_csv('data/save_for_later.csv')\n",
    "dummy_submission = pd.read_csv('data/dummy_submission.csv')"
   ]
  },
  {
   "cell_type": "code",
   "execution_count": null,
   "metadata": {},
   "outputs": [],
   "source": [
    "song_labels['label_id'].nunique()"
   ]
  },
  {
   "cell_type": "code",
   "execution_count": null,
   "metadata": {},
   "outputs": [],
   "source": [
    "song_labels_new = song_labels.groupby('label_id').sum().sort_values('count', ascending = False)"
   ]
  },
  {
   "cell_type": "code",
   "execution_count": null,
   "metadata": {},
   "outputs": [],
   "source": [
    "song_labels_new.reset_index(inplace = True)"
   ]
  },
  {
   "cell_type": "code",
   "execution_count": null,
   "metadata": {},
   "outputs": [],
   "source": [
    "principal_song_labels = song_labels_new['label_id'].to_numpy()[:34252]"
   ]
  },
  {
   "cell_type": "code",
   "execution_count": null,
   "metadata": {},
   "outputs": [],
   "source": [
    "temp=0\n",
    "for i in principal_song_labels:\n",
    "    label = song_labels[song_labels['label_id'] == i]\n",
    "    label = label.reset_index().drop(['index', 'label_id'], axis = 1)\n",
    "    label[f'count{i}'] = label['count']\n",
    "    label.drop(['count'], axis = 1, inplace = True)\n",
    "    songs = pd.merge(songs, label, on = 'platform_id', how = 'left')\n",
    "    temp+=1\n",
    "    if temp%100==0:\n",
    "        print(temp)"
   ]
  },
  {
   "cell_type": "code",
   "execution_count": null,
   "metadata": {},
   "outputs": [],
   "source": [
    "for i in principal_song_labels:\n",
    "    songs[f'count{i}'] = songs[f'count{i}'].fillna(0)"
   ]
  },
  {
   "cell_type": "code",
   "execution_count": null,
   "metadata": {},
   "outputs": [],
   "source": []
  }
 ],
 "metadata": {
  "kernelspec": {
   "display_name": "Python 3",
   "language": "python",
   "name": "python3"
  },
  "language_info": {
   "codemirror_mode": {
    "name": "ipython",
    "version": 3
   },
   "file_extension": ".py",
   "mimetype": "text/x-python",
   "name": "python",
   "nbconvert_exporter": "python",
   "pygments_lexer": "ipython3",
   "version": "3.8.3"
  }
 },
 "nbformat": 4,
 "nbformat_minor": 4
}
